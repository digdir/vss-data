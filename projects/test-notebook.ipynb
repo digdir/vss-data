{
 "cells": [
  {
   "cell_type": "markdown",
   "id": "fa414f85",
   "metadata": {},
   "source": [
    "Let's see if this notebook finds it's way to fabric"
   ]
  }
 ],
 "metadata": {
  "language_info": {
   "name": "python"
  }
 },
 "nbformat": 4,
 "nbformat_minor": 5
}
