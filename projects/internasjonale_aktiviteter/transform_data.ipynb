{
 "cells": [
  {
   "cell_type": "code",
   "execution_count": null,
   "id": "7a47e90a",
   "metadata": {},
   "outputs": [],
   "source": [
    "from pyspark import spark\n",
    "df = spark.sql(\"SELECT * FROM DataflowsStagingLakehouse.staging_international_activity_reports LIMIT 1000\")\n",
    "display(df)"
   ]
  },
  {
   "cell_type": "code",
   "execution_count": null,
   "id": "52e8d5a2",
   "metadata": {},
   "outputs": [],
   "source": [
    "print(\"hello word\")"
   ]
  },
  {
   "cell_type": "markdown",
   "id": "25b1296a",
   "metadata": {},
   "source": [
    "This is an update"
   ]
  }
 ],
 "metadata": {
  "language_info": {
   "name": "python"
  }
 },
 "nbformat": 4,
 "nbformat_minor": 5
}
