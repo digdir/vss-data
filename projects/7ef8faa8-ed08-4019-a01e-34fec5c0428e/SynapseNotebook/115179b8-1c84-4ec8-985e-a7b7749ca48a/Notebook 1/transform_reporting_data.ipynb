{
 "cells": [
  {
   "cell_type": "code",
   "execution_count": null,
   "id": "9bab3b11-56c1-44d9-88a0-63f674b8a747",
   "metadata": {
    "cellStatus": "{}",
    "microsoft": {
     "language": "python",
     "language_group": "synapse_pyspark"
    }
   },
   "outputs": [],
   "source": [
    "df = spark.sql(\"SELECT * FROM DataflowsStagingLakehouse.staging_international_activity_reports LIMIT 1000\")\n",
    "display(df)"
   ]
  },
  {
   "cell_type": "code",
   "execution_count": null,
   "id": "bd9bb81c-faba-4cb5-a166-fcf418879379",
   "metadata": {
    "cellStatus": "{}",
    "microsoft": {
     "language": "python",
     "language_group": "synapse_pyspark"
    }
   },
   "outputs": [],
   "source": [
    "print(\"Hello new World\")"
   ]
  },
  {
   "cell_type": "markdown",
   "id": "011f0f87",
   "metadata": {},
   "source": [
    "Try to upload this notebook via VS CODE and Github"
   ]
  }
 ],
 "metadata": {
  "dependencies": {
   "lakehouse": {
    "default_lakehouse": "89f5499c-cbc0-4f83-8234-3211b382cf4d",
    "default_lakehouse_name": "DataflowsStagingLakehouse",
    "default_lakehouse_workspace_id": "7ef8faa8-ed08-4019-a01e-34fec5c0428e",
    "known_lakehouses": [
     {
      "id": "89f5499c-cbc0-4f83-8234-3211b382cf4d"
     }
    ]
   }
  },
  "kernel_info": {
   "name": "synapse_pyspark"
  },
  "kernelspec": {
   "display_name": "Synapse PySpark",
   "language": "Python",
   "name": "synapse_pyspark"
  },
  "language_info": {
   "name": "python"
  },
  "microsoft": {
   "language": "python",
   "language_group": "synapse_pyspark",
   "ms_spell_check": {
    "ms_spell_check_language": "en"
   }
  },
  "nteract": {
   "version": "nteract-front-end@1.0.0"
  },
  "spark_compute": {
   "compute_id": "/trident/default",
   "session_options": {
    "conf": {
     "spark.synapse.nbs.session.timeout": "1200000"
    }
   }
  }
 },
 "nbformat": 4,
 "nbformat_minor": 5
}
